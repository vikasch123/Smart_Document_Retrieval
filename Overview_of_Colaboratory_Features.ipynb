{
  "cells": [
    {
      "cell_type": "markdown",
      "metadata": {
        "id": "view-in-github",
        "colab_type": "text"
      },
      "source": [
        "<a href=\"https://colab.research.google.com/github/vikasch123/Smart_Document_Retrieval/blob/main/Overview_of_Colaboratory_Features.ipynb\" target=\"_parent\"><img src=\"https://colab.research.google.com/assets/colab-badge.svg\" alt=\"Open In Colab\"/></a>"
      ]
    },
    {
      "cell_type": "markdown",
      "source": [],
      "metadata": {
        "id": "mV9hgBSMYErh"
      }
    },
    {
      "cell_type": "code",
      "source": [
        "import os\n",
        "import nltk\n",
        "import numpy as np\n",
        "import pandas as pd\n",
        "from nltk.corpus import stopwords\n",
        "from nltk.tokenize import word_tokenize\n",
        "from sklearn.feature_extraction.text import TfidfVectorizer\n",
        "from sklearn.metrics.pairwise import cosine_similarity\n",
        "\n",
        "# Download necessary NLTK data (if not already downloaded)\n",
        "nltk.download('punkt')\n",
        "nltk.download('stopwords')\n",
        "\n",
        "def preprocess_text(text):\n",
        "    \"\"\"\n",
        "    Preprocesses text by converting to lowercase, removing stopwords, and tokenizing.\n",
        "\n",
        "    Args:\n",
        "        text (str): The input text.\n",
        "\n",
        "    Returns:\n",
        "        str: The preprocessed text.\n",
        "    \"\"\"\n",
        "    text = text.lower()  # Convert to lowercase\n",
        "    tokens = word_tokenize(text)  # Tokenize\n",
        "    tokens = [token for token in tokens if token.isalnum() and token not in stopwords.words('english')]  # Remove stopwords and punctuation\n",
        "    return ' '.join(tokens)  # Join tokens back into a string\n",
        "\n",
        "def load_documents(folder_path):\n",
        "    \"\"\"\n",
        "    Loads documents from a folder and preprocesses them.\n",
        "\n",
        "    Args:\n",
        "        folder_path (str): The path to the folder containing documents.\n",
        "\n",
        "    Returns:\n",
        "        dict: A dictionary mapping document names to preprocessed content.\n",
        "    \"\"\"\n",
        "    documents = {}\n",
        "    for filename in os.listdir(folder_path):\n",
        "        if filename.endswith('.txt'):\n",
        "            with open(os.path.join(folder_path, filename), 'r', encoding='utf-8') as file:\n",
        "                content = file.read()\n",
        "                documents[filename] = preprocess_text(content)\n",
        "    return documents\n",
        "\n",
        "def retrieve_relevant_documents(query, documents):\n",
        "    \"\"\"\n",
        "    Retrieves relevant documents based on a user query using TF-IDF and cosine similarity.\n",
        "\n",
        "    Args:\n",
        "        query (str): The user's search query.\n",
        "        documents (dict): A dictionary mapping document names to preprocessed content.\n",
        "\n",
        "    Returns:\n",
        "        list: A list of tuples containing document names and their similarity scores, sorted by relevance.\n",
        "    \"\"\"\n",
        "    doc_names = list(documents.keys())\n",
        "    corpus = list(documents.values())\n",
        "\n",
        "    # Create TF-IDF vectors\n",
        "    vectorizer = TfidfVectorizer()\n",
        "    tfidf_matrix = vectorizer.fit_transform(corpus)\n",
        "\n",
        "    # Vectorize the query\n",
        "    query_vector = vectorizer.transform([preprocess_text(query)])\n",
        "\n",
        "    # Calculate cosine similarity\n",
        "    similarity_scores = cosine_similarity(query_vector, tfidf_matrix).flatten()\n",
        "\n",
        "    # Rank documents based on similarity\n",
        "    ranked_docs = sorted(zip(doc_names, similarity_scores), key=lambda x: x[1], reverse=True)\n",
        "\n",
        "    return ranked_docs\n",
        "\n",
        "if __name__ == \"__main__\":\n",
        "    folder_path = 'documents'  # Replace with the actual path to your documents folder\n",
        "\n",
        "    documents = load_documents(folder_path)\n",
        "    if not documents:\n",
        "        print(\"No documents found in the folder.\")\n",
        "    else:\n",
        "        query = input(\"Enter your search query: \")\n",
        "        ranked_results = retrieve_relevant_documents(query, documents)\n",
        "\n",
        "        print(\"\\nTop Relevant Documents:\")\n",
        "        for doc, score in ranked_results[:5]:\n",
        "            print(f\"{doc} (Score: {score:.4f})\")"
      ],
      "metadata": {
        "id": "_xTIZPMmU4A3",
        "outputId": "9f873f42-c346-4224-e222-d25aab0da034",
        "colab": {
          "base_uri": "https://localhost:8080/"
        }
      },
      "execution_count": 5,
      "outputs": [
        {
          "output_type": "stream",
          "name": "stderr",
          "text": [
            "[nltk_data] Downloading package punkt to /root/nltk_data...\n",
            "[nltk_data]   Package punkt is already up-to-date!\n",
            "[nltk_data] Downloading package stopwords to /root/nltk_data...\n",
            "[nltk_data]   Package stopwords is already up-to-date!\n"
          ]
        },
        {
          "output_type": "stream",
          "name": "stdout",
          "text": [
            "Enter your search query: machine\n",
            "\n",
            "Top Relevant Documents:\n",
            "machine_learning.txt (Score: 0.1492)\n",
            "data_science.txt (Score: 0.1471)\n",
            "deep_learning.txt (Score: 0.1268)\n",
            "artificial_intelligence.txt (Score: 0.0000)\n",
            "web_development.txt (Score: 0.0000)\n"
          ]
        }
      ]
    }
  ],
  "metadata": {
    "colab": {
      "name": "Overview of Colaboratory Features",
      "provenance": [],
      "include_colab_link": true
    },
    "kernelspec": {
      "display_name": "Python 3",
      "name": "python3"
    }
  },
  "nbformat": 4,
  "nbformat_minor": 0
}